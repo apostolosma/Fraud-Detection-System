{
 "cells": [
  {
   "cell_type": "code",
   "execution_count": null,
   "id": "ddef85e3-9e7e-462f-ac04-e84b7c33c160",
   "metadata": {},
   "outputs": [],
   "source": [
    "import networkx as nx\n",
    "import matplotlib.pyplot as plt # graph visualisation\n",
    "import pandas as pd\n",
    "import numpy as np"
   ]
  },
  {
   "cell_type": "markdown",
   "id": "3a4d8f39-1643-470f-863e-fb4b90b04e13",
   "metadata": {},
   "source": [
    "# Credit-Card-2 Network Fraud"
   ]
  },
  {
   "cell_type": "code",
   "execution_count": null,
   "id": "a59d15ee-cfc6-4dba-b7df-3534e1542808",
   "metadata": {},
   "outputs": [],
   "source": [
    "edges = pd.read_csv('./credit-card-2/creditcard.csv')"
   ]
  },
  {
   "cell_type": "code",
   "execution_count": null,
   "id": "edc356e5-2c09-48ed-8b71-36f83368e40c",
   "metadata": {},
   "outputs": [],
   "source": [
    "edges.info()"
   ]
  },
  {
   "cell_type": "markdown",
   "id": "3a686063-c55e-42a0-bd09-8ae64ab40ba9",
   "metadata": {},
   "source": [
    "# Synthetic Financial Dataset"
   ]
  },
  {
   "cell_type": "code",
   "execution_count": null,
   "id": "6568fdd8-d7b0-4960-99da-16d9eace98b7",
   "metadata": {},
   "outputs": [],
   "source": [
    "nodes = pd.read_csv('./credit-card/Nodes.csv')"
   ]
  },
  {
   "cell_type": "code",
   "execution_count": null,
   "id": "8781b3f7-0a6b-4d3d-adfd-58abc6e6f031",
   "metadata": {},
   "outputs": [],
   "source": [
    "nodes.info()"
   ]
  },
  {
   "cell_type": "code",
   "execution_count": null,
   "id": "0c185afd-3bb8-47c8-962a-589387df9ba0",
   "metadata": {},
   "outputs": [],
   "source": [
    "edges = pd.read_csv('./credit-card/transactions.csv')"
   ]
  },
  {
   "cell_type": "code",
   "execution_count": null,
   "id": "f1cc09e3-eae0-4fdc-9ff2-b17aad847cbb",
   "metadata": {},
   "outputs": [],
   "source": [
    "edges.info()"
   ]
  },
  {
   "cell_type": "code",
   "execution_count": null,
   "id": "d3562ac4-4d81-4dc7-a87b-856dcbd52c33",
   "metadata": {},
   "outputs": [],
   "source": [
    "edges.describe()"
   ]
  },
  {
   "cell_type": "code",
   "execution_count": null,
   "id": "a0037f5e-40f4-42be-809b-9c95b34bdb01",
   "metadata": {},
   "outputs": [],
   "source": [
    "fraud = edges['isFraud']\n",
    "fraud.describe()"
   ]
  },
  {
   "cell_type": "code",
   "execution_count": null,
   "id": "1885d457-af5f-45d8-b3b5-a44e44777702",
   "metadata": {},
   "outputs": [],
   "source": [
    "nec_edge_inf = pd.DataFrame()\n",
    "nec_edge_inf['nameOrig'] = edges['nameOrig']\n",
    "nec_edge_inf['nameDest'] = edges['nameDest']\n",
    "nec_edge_inf = list(nec_edge_inf.to_records(index=False))"
   ]
  },
  {
   "cell_type": "code",
   "execution_count": null,
   "id": "fec52124-69dd-4401-a68f-f1e973d4e362",
   "metadata": {},
   "outputs": [],
   "source": [
    "print(nec_edge_inf[0])"
   ]
  },
  {
   "cell_type": "markdown",
   "id": "6265457a-eceb-4f0c-9d62-e3b47fb97b82",
   "metadata": {},
   "source": [
    "### Calculating the percentage of frauds"
   ]
  },
  {
   "cell_type": "code",
   "execution_count": null,
   "id": "f4498925-1b7e-4075-9204-80419bc7d26e",
   "metadata": {
    "tags": []
   },
   "outputs": [],
   "source": [
    "fraud_number = len(fraud[(fraud > 0)])\n",
    "total_number = len(edges)\n",
    "print(total_number,fraud_number,round(fraud_number/total_number,6))\n"
   ]
  },
  {
   "cell_type": "markdown",
   "id": "17f542e8-16cd-4b8c-8384-b4b8d7e25851",
   "metadata": {},
   "source": [
    "### Creating a dataframe to hold all the metrics"
   ]
  },
  {
   "cell_type": "code",
   "execution_count": null,
   "id": "807185f8-1fdc-47a8-9c60-996ceef7148c",
   "metadata": {},
   "outputs": [],
   "source": [
    "# Each row of the dataset denotes a node of the graph\n",
    "data = pd.DataFrame(np.zeros((len(nodes.id), 3)))\n",
    "data.columns = {'Closeness Centrality':[], 'EigenVector Centrality':[], 'PageRank':[]}\n",
    "data.index = nodes.id\n",
    "data.info()"
   ]
  },
  {
   "cell_type": "markdown",
   "id": "30bc4a09-e5e5-4267-ab71-081744c2a8c1",
   "metadata": {},
   "source": [
    "## Creating graph G"
   ]
  },
  {
   "cell_type": "code",
   "execution_count": null,
   "id": "76fb2f93-4180-492b-8988-6a2c2b572dd2",
   "metadata": {},
   "outputs": [],
   "source": [
    "%%time\n",
    "\n",
    "G = nx.Graph()\n",
    "G.add_nodes_from(nodes['id'])\n",
    "G.add_edges_from(nec_edge_inf)\n"
   ]
  },
  {
   "cell_type": "code",
   "execution_count": null,
   "id": "9e908afe-0e7c-4c62-b6e4-e80ff25ae556",
   "metadata": {},
   "outputs": [],
   "source": [
    "nx.draw(G)"
   ]
  },
  {
   "cell_type": "markdown",
   "id": "68bc3574-980b-42ab-b2ae-3dd884776769",
   "metadata": {},
   "source": [
    "## Calculating the appropriate metrics of the graph\n",
    "### Closeness centrality"
   ]
  },
  {
   "cell_type": "code",
   "execution_count": null,
   "id": "f4706e6b-312b-4945-9601-b48783e9aa10",
   "metadata": {},
   "outputs": [],
   "source": [
    "%%time\n",
    "tmp = {}\n",
    "tmp = nx.closeness_centrality(G)\n",
    "\n",
    "data['Closeness Centrality'] = tmp.values()"
   ]
  },
  {
   "cell_type": "markdown",
   "id": "8f8d36e1-4f1d-43d6-b4cd-d9c72f459c3c",
   "metadata": {},
   "source": [
    "### Eigenvector Centrality"
   ]
  },
  {
   "cell_type": "code",
   "execution_count": null,
   "id": "05a00d4b-85fa-4f92-87b7-d96c9ace5a7b",
   "metadata": {},
   "outputs": [],
   "source": [
    "%%time\n",
    "\n",
    "tmp = {}\n",
    "tmp = nx.eigenvector_centrality(G)\n",
    "\n",
    "data['EigenVector Centrality'] = tmp.values()"
   ]
  },
  {
   "cell_type": "markdown",
   "id": "22c268d5-262f-4419-b372-b775b49aeef1",
   "metadata": {},
   "source": [
    "### PageRank"
   ]
  },
  {
   "cell_type": "code",
   "execution_count": null,
   "id": "ccfda5bc-3773-442c-a68b-7e5b618ea4fb",
   "metadata": {},
   "outputs": [],
   "source": [
    "%%time\n",
    "tmp = {}\n",
    "tmp = nx.pagerank(G)\n",
    "\n",
    "data['PageRank'] = tmp.values()"
   ]
  },
  {
   "cell_type": "markdown",
   "id": "2185c01e-804c-497d-ba6c-1fe79af24f1b",
   "metadata": {},
   "source": [
    "## Or read them from CSV"
   ]
  },
  {
   "cell_type": "code",
   "execution_count": null,
   "id": "1122548a-7a98-474d-b004-a340c93bc1ac",
   "metadata": {},
   "outputs": [],
   "source": [
    "data = pd.DataFrame()\n",
    "data['PageRank'] = pd.read_csv('./metrics/credit_card/pagerank.csv',index_col='id')\n",
    "data['Closeness Centrality'] = pd.read_csv('./metrics/credit_card/closeness.csv',index_col='id')\n",
    "data['EigenVector Centrality'] = pd.read_csv('./metrics/credit_card/eigen.csv',index_col='id')"
   ]
  },
  {
   "cell_type": "markdown",
   "id": "597d65ab-922b-47ab-b090-9b1c55ccd910",
   "metadata": {},
   "source": [
    "## Adding metrics to edges information\n"
   ]
  },
  {
   "cell_type": "code",
   "execution_count": null,
   "id": "9bc0135b-1160-45b4-8a7d-e736b1b2102b",
   "metadata": {},
   "outputs": [],
   "source": [
    "edges_com = pd.DataFrame()\n",
    "edges_com = edges.drop(['isFraud'],axis=1)"
   ]
  },
  {
   "cell_type": "markdown",
   "id": "93f6b4ab-5bcf-49cd-83e7-84681e83ab24",
   "metadata": {},
   "source": [
    "## Loading Graph Analysis metrics of origin and destination nodes in each edge"
   ]
  },
  {
   "cell_type": "code",
   "execution_count": null,
   "id": "17625136-6a83-44dd-92c1-92821dc70dde",
   "metadata": {},
   "outputs": [],
   "source": [
    "edges_com = pd.merge(edges_com, data,  how='left', left_on='nameOrig',right_on='id')\n",
    "edges_com = edges_com.rename({'PageRank': 'origPagerank', 'Closeness Centrality': 'origCloseness','EigenVector Centrality':'origEigen'}, axis=1)\n",
    "edges_com = pd.merge(edges_com, data,  how='left', left_on='nameDest',right_on='id')\n",
    "edges_com = edges_com.rename({'PageRank': 'destPagerank', 'Closeness Centrality': 'destCloseness','EigenVector Centrality':'destEigen'}, axis=1)"
   ]
  },
  {
   "cell_type": "markdown",
   "id": "6a64ac82-cfae-486c-8bac-1d7d4b20bad1",
   "metadata": {},
   "source": [
    "## Converting Strings into Numbers"
   ]
  },
  {
   "cell_type": "code",
   "execution_count": null,
   "id": "c171096f-4352-43eb-9940-621aa9a6150a",
   "metadata": {},
   "outputs": [],
   "source": [
    "from sklearn.pipeline import Pipeline\n",
    "from sklearn.impute import SimpleImputer\n",
    "from sklearn.preprocessing import MinMaxScaler\n",
    "from sklearn.preprocessing import OneHotEncoder\n",
    "\n",
    "to_be_removed = ['nameDest','nameOrig']\n",
    "\n",
    "categorical_features = ['type']\n",
    "categorical_transformer = Pipeline(steps=[\n",
    "    ('imputer', SimpleImputer(strategy='most_frequent')),\n",
    "    ('onehot', OneHotEncoder())])\n",
    "\n",
    "numeric_features = ['origPagerank', 'origCloseness','origEigen','destPagerank','destCloseness','destEigen']\n",
    "numeric_transformer = Pipeline(steps=[\n",
    "        ('imputer', SimpleImputer(strategy='median')),\n",
    "       ('scaler', MinMaxScaler())])\n"
   ]
  },
  {
   "cell_type": "code",
   "execution_count": null,
   "id": "f34817a0-1288-48ba-8091-182d69f26e0e",
   "metadata": {},
   "outputs": [],
   "source": [
    "from sklearn.compose import ColumnTransformer\n",
    "\n",
    "preprocessor = ColumnTransformer(\n",
    "    remainder = 'passthrough',\n",
    "    transformers=[\n",
    "        ('numeric', numeric_transformer, numeric_features),\n",
    "        ('categorical', categorical_transformer, categorical_features),\n",
    "        ('remove','drop',to_be_removed)\n",
    "])\n",
    "\n",
    "\n",
    "edges_com = preprocessor.fit_transform(edges_com)"
   ]
  },
  {
   "cell_type": "markdown",
   "id": "579dc7f2-335e-415a-ae3b-e3da6e5daab9",
   "metadata": {},
   "source": [
    "\n",
    "# Splitting Dataset into Train & Test Sets"
   ]
  },
  {
   "cell_type": "markdown",
   "id": "6431c904-e186-4dbc-8e48-3c31ace079a0",
   "metadata": {},
   "source": [
    "### Calculate new train and test sets (Credit Card)"
   ]
  },
  {
   "cell_type": "code",
   "execution_count": null,
   "id": "a7749a72-6ab8-43e1-83ae-179b01137834",
   "metadata": {},
   "outputs": [],
   "source": [
    "from sklearn.model_selection import train_test_split\n",
    "X_train, X_test, Y_train, Y_test = train_test_split( edges.drop(['Class'], axis=1), edges['Class'] , test_size=0.25, random_state=42)\n"
   ]
  },
  {
   "cell_type": "markdown",
   "id": "148d5db0-2ba9-4ca0-9d03-01eb6c72c81b",
   "metadata": {},
   "source": [
    "### Calculate new train and test sets(Synthetic Financial Datasets)"
   ]
  },
  {
   "cell_type": "code",
   "execution_count": null,
   "id": "91443006-1fc4-4cdd-90a6-bd7c2768ed3b",
   "metadata": {},
   "outputs": [],
   "source": [
    "from sklearn.model_selection import train_test_split\n",
    "X_train, X_test, Y_train, Y_test = train_test_split( edges_com, edges['isFraud'] , test_size=0.25, random_state=42)\n"
   ]
  },
  {
   "cell_type": "markdown",
   "id": "a3bf5348-5802-4f2b-bdbd-09d7c24e31ca",
   "metadata": {},
   "source": [
    "# Supervised Machine Learning\n"
   ]
  },
  {
   "cell_type": "markdown",
   "id": "dddc0992-f668-43a5-a70d-9039e18cb916",
   "metadata": {},
   "source": [
    "## Logistic Regression"
   ]
  },
  {
   "cell_type": "code",
   "execution_count": null,
   "id": "ce9d93d6-3a75-4efb-83db-f544c3d35168",
   "metadata": {},
   "outputs": [],
   "source": [
    "%%time\n",
    "from sklearn.linear_model import LogisticRegression\n",
    "\n",
    "lr = LogisticRegression(random_state=0).fit(X_train, y_train)\n",
    "\n",
    "y_pred_lr = lr.predict(X_test)"
   ]
  },
  {
   "cell_type": "code",
   "execution_count": null,
   "id": "a014d7ce-27a3-48d9-a9b7-c4a4913c1b97",
   "metadata": {},
   "outputs": [],
   "source": [
    "from sklearn.metrics import plot_confusion_matrix\n",
    "\n",
    "plot_confusion_matrix(lr, X_test, y_test, values_format='d')"
   ]
  },
  {
   "cell_type": "code",
   "execution_count": null,
   "id": "63ecaf36-5507-4e4f-9e88-7f979b9083d1",
   "metadata": {},
   "outputs": [],
   "source": [
    "from sklearn.metrics import accuracy_score\n",
    "\n",
    "print(accuracy_score(y_pred_lr, y_test))"
   ]
  },
  {
   "cell_type": "markdown",
   "id": "9cb9f363-7db4-4f3c-81ab-db0a59ba05a3",
   "metadata": {},
   "source": [
    "## Random Forest (Bagging)"
   ]
  },
  {
   "cell_type": "code",
   "execution_count": null,
   "id": "8d2f37e9-4b39-4455-bf5e-b90c6105cb7c",
   "metadata": {},
   "outputs": [],
   "source": [
    "%%time\n",
    "from sklearn.ensemble import RandomForestClassifier\n",
    "\n",
    "rfc = RandomForestClassifier(max_features='auto', bootstrap=True)\n",
    "\n",
    "rfc.fit(X_train,y_train) # build the tree of X_train"
   ]
  },
  {
   "cell_type": "code",
   "execution_count": null,
   "id": "73ec90ce-7a65-4119-a7ad-d0d0a1712513",
   "metadata": {},
   "outputs": [],
   "source": [
    "y_pred_rf = rfc.predict(X_test)\n",
    "print(accuracy_score(y_pred_rf,y_test)) # Calculates the accuracy of Random Forest"
   ]
  },
  {
   "cell_type": "markdown",
   "id": "a5679ccf-02cc-40dd-8002-3c73789cff2f",
   "metadata": {},
   "source": [
    "### Plot the confusion matrix"
   ]
  },
  {
   "cell_type": "code",
   "execution_count": null,
   "id": "c4bc29d7-e242-41ab-b2fe-27dfa6092848",
   "metadata": {},
   "outputs": [],
   "source": [
    "from sklearn.metrics import plot_confusion_matrix\n",
    "\n",
    "plot_confusion_matrix(rfc, X_test, y_test, values_format='d')\n"
   ]
  },
  {
   "cell_type": "markdown",
   "id": "30d798a0-5de0-47d9-82d5-e691f7ac212b",
   "metadata": {},
   "source": [
    "### Perform RandomForest model on our test set"
   ]
  },
  {
   "cell_type": "code",
   "execution_count": null,
   "id": "807099fd-e783-4d23-8b4f-2e1f5ff1da26",
   "metadata": {},
   "outputs": [],
   "source": [
    "y_test_pred = rfc.predict(X_test)\n",
    "rfc.score(X_test,y_test)"
   ]
  },
  {
   "cell_type": "markdown",
   "id": "cf13de5e-6688-4b31-8e9c-124b3eebac08",
   "metadata": {},
   "source": [
    "### Perform AdaBoost"
   ]
  },
  {
   "cell_type": "code",
   "execution_count": null,
   "id": "fe2d4ce0-8126-4a14-8e4a-977ec173fa6f",
   "metadata": {},
   "outputs": [],
   "source": [
    "%%time\n",
    "from sklearn.ensemble import AdaBoostClassifier\n",
    "\n",
    "\n",
    "ada = AdaBoostClassifier(n_estimators=50, random_state=0, algorithm='SAMME.R')\n",
    "ada.fit(X_train, y_train)"
   ]
  },
  {
   "cell_type": "code",
   "execution_count": null,
   "id": "fa6a2e10-23fb-4068-9236-d43bb4e85d0a",
   "metadata": {},
   "outputs": [],
   "source": [
    "y_pred_ada = ada.predict(X_train)"
   ]
  },
  {
   "cell_type": "code",
   "execution_count": null,
   "id": "bffb521b-dbb1-4c07-9eba-9f2d5d93eab0",
   "metadata": {},
   "outputs": [],
   "source": [
    "from sklearn.metrics import plot_confusion_matrix\n",
    "\n",
    "plot_confusion_matrix(ada, X_test, y_test, values_format='d')"
   ]
  },
  {
   "cell_type": "markdown",
   "id": "41b0059e-7f6d-43af-a98e-c4318aaec395",
   "metadata": {},
   "source": [
    "### Calculating probabilities of each model"
   ]
  },
  {
   "cell_type": "code",
   "execution_count": null,
   "id": "03bd2984-0870-4797-a091-eb94e32c5ec8",
   "metadata": {},
   "outputs": [],
   "source": [
    "from sklearn.metrics import roc_curve, roc_auc_score\n",
    "\n",
    "rf_probs = rfc.predict_proba(X_test)\n",
    "lr_probs = lr.predict_proba(X_test)\n",
    "ada_probs = ada.predict_proba(X_test)\n",
    "\n",
    "rf_probs = rf_probs[:,1]\n",
    "lr_probs = lr_probs[:,1]\n",
    "ada_probs = ada_probs[:,1]"
   ]
  },
  {
   "cell_type": "markdown",
   "id": "5974718d-a310-4473-b927-10c944d6be36",
   "metadata": {},
   "source": [
    "### Calculating ROC & AUC"
   ]
  },
  {
   "cell_type": "code",
   "execution_count": null,
   "id": "926fcff5-a856-470c-892f-be445bf95198",
   "metadata": {},
   "outputs": [],
   "source": [
    "rf_auc = roc_auc_score(y_test, rf_probs)\n",
    "lr_auc = roc_auc_score(y_test, lr_probs)\n",
    "ada_auc = roc_auc_score(y_test, ada_probs)\n",
    "\n",
    "rf_fpr, rf_tpr, _ = roc_curve(y_test, rf_probs)\n",
    "lr_fpr, lr_tpr, _ = roc_curve(y_test, lr_probs)\n",
    "ada_fpr, ada_tpr, _ = roc_curve(y_test, ada_probs)\n"
   ]
  },
  {
   "cell_type": "markdown",
   "id": "281d088e-07e0-4a6f-a032-6303048b39d6",
   "metadata": {},
   "source": [
    "### Plotting ROC Curve"
   ]
  },
  {
   "cell_type": "code",
   "execution_count": null,
   "id": "9ccd7931-c559-4905-bd36-a839d1e39f29",
   "metadata": {},
   "outputs": [],
   "source": [
    "\n",
    "\n",
    "plt.plot(lr_fpr, lr_tpr, linestyle='--', label='Linear Regression')\n",
    "plt.plot(rf_fpr, rf_tpr, marker='.', label='Random Forest')\n",
    "plt.plot(ada_fpr, ada_tpr, marker='.', label='Naive Bayes')\n",
    "\n",
    "# Title\n",
    "plt.title('ROC Plot')\n",
    "# Axis labels\n",
    "plt.xlabel('False Positive Rate')\n",
    "plt.ylabel('True Positive Rate')\n",
    "# Show legend\n",
    "plt.legend() # \n",
    "# Show plot\n",
    "plt.show()\n",
    "\n"
   ]
  },
  {
   "cell_type": "markdown",
   "id": "79398b47",
   "metadata": {},
   "source": [
    "# Unsupervised Learning"
   ]
  },
  {
   "cell_type": "markdown",
   "id": "c08e2ad3",
   "metadata": {},
   "source": [
    "## Synthetic Financial Datasets"
   ]
  },
  {
   "cell_type": "markdown",
   "id": "38640666",
   "metadata": {},
   "source": [
    "### Isolation Forest"
   ]
  },
  {
   "cell_type": "code",
   "execution_count": null,
   "id": "4135da1c",
   "metadata": {},
   "outputs": [],
   "source": [
    "from sklearn.ensemble import IsolationForest"
   ]
  },
  {
   "cell_type": "code",
   "execution_count": null,
   "id": "ac002d3f",
   "metadata": {},
   "outputs": [],
   "source": [
    "clf=IsolationForest(n_estimators=100, max_samples='auto', contamination=float(.05), \\\n",
    "                        max_features=16, bootstrap=False, n_jobs=-1, random_state=42, verbose=0)"
   ]
  },
  {
   "cell_type": "code",
   "execution_count": null,
   "id": "fd567ad6",
   "metadata": {},
   "outputs": [],
   "source": [
    "# About 8-10 minutes\n",
    "clf.fit(X_train)"
   ]
  },
  {
   "cell_type": "code",
   "execution_count": null,
   "id": "2ddfc81e",
   "metadata": {},
   "outputs": [],
   "source": [
    "clf_pred = clf.predict(X_test)"
   ]
  },
  {
   "cell_type": "markdown",
   "id": "206423fb",
   "metadata": {},
   "source": [
    "#### Create Anomaly Histogram"
   ]
  },
  {
   "cell_type": "code",
   "execution_count": null,
   "id": "06351017",
   "metadata": {},
   "outputs": [],
   "source": [
    "df = pd.DataFrame()\n",
    "df['scores'] = clf.decision_function(X_test)\n",
    "df['anomaly_label'] = clf_pred"
   ]
  },
  {
   "cell_type": "code",
   "execution_count": null,
   "id": "845d5531",
   "metadata": {},
   "outputs": [],
   "source": [
    "import matplotlib.pyplot as plt\n",
    "import plotly.express as px\n",
    "df['anomaly']=df['anomaly_label'].apply(lambda x: 'outlier' if x==-1  else 'inlier')\n",
    "fig=px.histogram(df,x='scores',color='anomaly')\n",
    "fig.show()"
   ]
  },
  {
   "cell_type": "markdown",
   "id": "b70502b6",
   "metadata": {},
   "source": [
    "#### Confusion Matrix"
   ]
  },
  {
   "cell_type": "code",
   "execution_count": null,
   "id": "2b206d1b",
   "metadata": {},
   "outputs": [],
   "source": [
    "res = np.where(clf_pred ==1,  0,clf_pred)\n",
    "res = np.where(clf_pred ==-1,  1,res)\n",
    "clf_pred = res"
   ]
  },
  {
   "cell_type": "code",
   "execution_count": null,
   "id": "ec75fd0c",
   "metadata": {},
   "outputs": [],
   "source": [
    "from sklearn.metrics import confusion_matrix\n",
    "import seaborn as sn\n",
    "import matplotlib.pyplot as plt # graph visualisation\n",
    "cm = confusion_matrix(Y_test,clf_pred)\n",
    "\n",
    "plt.figure(figsize=(10,7))\n",
    "sn.heatmap(cm, annot=True)\n",
    "plt.xlabel('Predicted')\n",
    "plt.ylabel('Truth')"
   ]
  },
  {
   "cell_type": "markdown",
   "id": "755be996",
   "metadata": {},
   "source": [
    "#### After applying PCA on columns"
   ]
  },
  {
   "cell_type": "code",
   "execution_count": null,
   "id": "08ff237d",
   "metadata": {},
   "outputs": [],
   "source": [
    "from sklearn.decomposition import PCA\n",
    "from sklearn.preprocessing import StandardScaler"
   ]
  },
  {
   "cell_type": "code",
   "execution_count": null,
   "id": "578cfe08",
   "metadata": {},
   "outputs": [],
   "source": [
    "pca = PCA(n_components=3)  # Reduce to k=3 dimensions\n",
    "scaler = StandardScaler(with_mean=False)\n",
    "#normalize the metrics\n",
    "X = scaler.fit_transform(X_train)\n",
    "X_train_reduce = pca.fit_transform(X)"
   ]
  },
  {
   "cell_type": "code",
   "execution_count": null,
   "id": "19cacc4d",
   "metadata": {},
   "outputs": [],
   "source": [
    "scaler = StandardScaler()\n",
    "#normalize the metrics\n",
    "X = scaler.fit_transform(X_test)\n",
    "X_test_reduce = pca.fit_transform(X)"
   ]
  },
  {
   "cell_type": "code",
   "execution_count": null,
   "id": "a2f20fa8",
   "metadata": {},
   "outputs": [],
   "source": [
    "clf=IsolationForest(n_estimators=100, max_samples='auto', contamination=float(.05), \\\n",
    "                            max_features=3, bootstrap=False, n_jobs=-1, random_state=42, verbose=0)"
   ]
  },
  {
   "cell_type": "code",
   "execution_count": null,
   "id": "7a49c939",
   "metadata": {},
   "outputs": [],
   "source": [
    "clf.fit(X_train_reduce)"
   ]
  },
  {
   "cell_type": "markdown",
   "id": "c3d6ac24",
   "metadata": {},
   "source": [
    "#### Create Anomaly Histogram"
   ]
  },
  {
   "cell_type": "code",
   "execution_count": null,
   "id": "2133fb2b",
   "metadata": {},
   "outputs": [],
   "source": [
    "clf_pred_pca = clf.predict(X_test_reduce)"
   ]
  },
  {
   "cell_type": "code",
   "execution_count": null,
   "id": "59da0c3e",
   "metadata": {},
   "outputs": [],
   "source": [
    "df = pd.DataFrame()\n",
    "df['scores'] = clf.decision_function(X_test_reduce)\n",
    "df['anomaly_label'] = clf_pred_pca"
   ]
  },
  {
   "cell_type": "code",
   "execution_count": null,
   "id": "bfdc2586",
   "metadata": {},
   "outputs": [],
   "source": [
    "import matplotlib.pyplot as plt\n",
    "import plotly.express as px\n",
    "df['anomaly']=df['anomaly_label'].apply(lambda x: 'outlier' if x==-1  else 'inlier')\n",
    "fig=px.histogram(df,x='scores',color='anomaly')\n",
    "fig.show()"
   ]
  },
  {
   "cell_type": "markdown",
   "id": "6bea2a72",
   "metadata": {},
   "source": [
    "#### Confusion Matrix"
   ]
  },
  {
   "cell_type": "code",
   "execution_count": null,
   "id": "91d1c2cb",
   "metadata": {},
   "outputs": [],
   "source": [
    "res_pca = np.where(clf_pred_pca ==1,  0,clf_pred_pca)\n",
    "res_pca = np.where(clf_pred_pca ==-1,  1,res_pca)"
   ]
  },
  {
   "cell_type": "code",
   "execution_count": null,
   "id": "65ff2437",
   "metadata": {},
   "outputs": [],
   "source": [
    "from sklearn.metrics import confusion_matrix\n",
    "import seaborn as sn\n",
    "import matplotlib.pyplot as plt # graph visualisation\n",
    "cm = confusion_matrix(Y_test,res_pca)\n",
    "\n",
    "plt.figure(figsize=(10,7))\n",
    "sn.heatmap(cm, annot=True)\n",
    "plt.xlabel('Predicted')\n",
    "plt.ylabel('Truth')"
   ]
  },
  {
   "cell_type": "markdown",
   "id": "9a1354ac",
   "metadata": {},
   "source": [
    "### K-Means Clustering"
   ]
  },
  {
   "cell_type": "code",
   "execution_count": null,
   "id": "f8ed930c",
   "metadata": {},
   "outputs": [],
   "source": [
    "from sklearn.cluster import KMeans"
   ]
  },
  {
   "cell_type": "code",
   "execution_count": null,
   "id": "813400fc",
   "metadata": {},
   "outputs": [],
   "source": [
    "clustering = KMeans(n_clusters=2)"
   ]
  },
  {
   "cell_type": "code",
   "execution_count": null,
   "id": "2edf3f48",
   "metadata": {},
   "outputs": [],
   "source": [
    "clustering.fit(X_train)"
   ]
  },
  {
   "cell_type": "code",
   "execution_count": null,
   "id": "1eedadc2",
   "metadata": {},
   "outputs": [],
   "source": [
    "km_pred = clustering.predict(X_test)"
   ]
  },
  {
   "cell_type": "code",
   "execution_count": null,
   "id": "0cc2b7f5",
   "metadata": {},
   "outputs": [],
   "source": [
    "from sklearn.metrics import confusion_matrix\n",
    "import seaborn as sn\n",
    "import matplotlib.pyplot as plt # graph visualisation\n",
    "cm = confusion_matrix(Y_test,km_pred)\n",
    "\n",
    "plt.figure(figsize=(10,7))\n",
    "sn.heatmap(cm, annot=True)\n",
    "plt.xlabel('Predicted')\n",
    "plt.ylabel('Truth')"
   ]
  },
  {
   "cell_type": "markdown",
   "id": "2eb34adc",
   "metadata": {},
   "source": [
    "#### After applying PCA on columns "
   ]
  },
  {
   "cell_type": "code",
   "execution_count": null,
   "id": "d8ec0193",
   "metadata": {},
   "outputs": [],
   "source": [
    "from sklearn.decomposition import PCA\n",
    "from sklearn.preprocessing import StandardScaler"
   ]
  },
  {
   "cell_type": "code",
   "execution_count": null,
   "id": "4ac406f8",
   "metadata": {},
   "outputs": [],
   "source": [
    "pca = PCA(n_components=3)  # Reduce to k=3 dimensions\n",
    "scaler = StandardScaler()\n",
    "#normalize the metrics\n",
    "X = scaler.fit_transform(X_train)\n",
    "X_train_reduce = pca.fit_transform(X)"
   ]
  },
  {
   "cell_type": "code",
   "execution_count": null,
   "id": "eef47463",
   "metadata": {},
   "outputs": [],
   "source": [
    "scaler = StandardScaler()\n",
    "#normalize the metrics\n",
    "X = scaler.fit_transform(X_test)\n",
    "X_test_reduce = pca.fit_transform(X)"
   ]
  },
  {
   "cell_type": "code",
   "execution_count": null,
   "id": "19429482",
   "metadata": {},
   "outputs": [],
   "source": [
    "from sklearn.cluster import KMeans\n",
    "clustering = KMeans(n_clusters=2, random_state=0,algorithm=\"elkan\",max_iter=10000)\n",
    "clustering.fit(X_train_reduce)\n",
    "km_pca_pred = clustering.predict(X_test_reduce)"
   ]
  },
  {
   "cell_type": "markdown",
   "id": "1763af08",
   "metadata": {},
   "source": [
    "#### Confusion Matrix"
   ]
  },
  {
   "cell_type": "code",
   "execution_count": null,
   "id": "59b9c3dc",
   "metadata": {},
   "outputs": [],
   "source": [
    "from sklearn.metrics import confusion_matrix\n",
    "import seaborn as sn\n",
    "import matplotlib.pyplot as plt # graph visualisation\n",
    "cm = confusion_matrix(Y_test,km_pca_pred)\n",
    "\n",
    "plt.figure(figsize=(10,7))\n",
    "sn.heatmap(cm, annot=True)\n",
    "plt.xlabel('Predicted')\n",
    "plt.ylabel('Truth')"
   ]
  },
  {
   "cell_type": "markdown",
   "id": "714e7e1d",
   "metadata": {},
   "source": [
    "### ROC Curve & AUROC Score"
   ]
  },
  {
   "cell_type": "code",
   "execution_count": null,
   "id": "2fc82444",
   "metadata": {},
   "outputs": [],
   "source": [
    "from sklearn.metrics import roc_curve, roc_auc_score"
   ]
  },
  {
   "cell_type": "code",
   "execution_count": null,
   "id": "edacaeda",
   "metadata": {},
   "outputs": [],
   "source": [
    "clf_auc = roc_auc_score(Y_test, clf_pred)\n",
    "clf_pca_auc = roc_auc_score(Y_test, clf_pred_pca)\n",
    "km_auc = roc_auc_score(Y_test, km_pred)\n",
    "km_pca_auc = roc_auc_score(Y_test, km_pca_pred)"
   ]
  },
  {
   "cell_type": "code",
   "execution_count": null,
   "id": "4861dbda",
   "metadata": {},
   "outputs": [],
   "source": [
    "print('Isolation Forest: AUROC = %.3f' % (clf_auc))\n",
    "print('Isolation Forest PCA: AUROC = %.3f' % (clf_pca_auc))\n",
    "print('K-Means: AUROC = %.3f' % (km_auc))\n",
    "print('K-Means PCA: AUROC = %.3f' % (km_pca_auc))"
   ]
  },
  {
   "cell_type": "code",
   "execution_count": null,
   "id": "d2dd86fa",
   "metadata": {},
   "outputs": [],
   "source": [
    "clf_fpr, clf_tpr, _ = roc_curve(Y_test, clf_pred)\n",
    "clf_pca_fpr, clf_pca_tpr, _ = roc_curve(Y_test, clf_pred_pca)\n",
    "km_fpr, km_tpr, _ = roc_curve(Y_test, km_pred)\n",
    "km_pca_fpr, km_pca_tpr, _ = roc_curve(Y_test, km_pca_pred)"
   ]
  },
  {
   "cell_type": "code",
   "execution_count": null,
   "id": "3b0e2c58",
   "metadata": {},
   "outputs": [],
   "source": [
    "import matplotlib.pyplot as plt"
   ]
  },
  {
   "cell_type": "code",
   "execution_count": null,
   "id": "2f2049c4",
   "metadata": {},
   "outputs": [],
   "source": [
    "plt.plot(clf_fpr, clf_tpr, linestyle='--', label='Isolation Forrest (AUROC = %0.3f)' % clf_auc)\n",
    "plt.plot(clf_pca_fpr, clf_pca_tpr, marker='.', label='Isolation Forrest PCA (AUROC = %0.3f)' % clf_pca_auc)\n",
    "plt.plot(km_fpr, km_tpr, marker='.', label='K-Means (AUROC = %0.3f)' % km_auc)\n",
    "plt.plot(km_pca_fpr, km_pca_tpr, marker='.', label='K-Means PCA (AUROC = %0.3f)' % km_pca_auc)\n",
    "\n",
    "# Title\n",
    "plt.title('ROC Plot')\n",
    "# Axis labels\n",
    "plt.xlabel('False Positive Rate')\n",
    "plt.ylabel('True Positive Rate')\n",
    "# Show legend\n",
    "plt.legend() # \n",
    "# Show plot\n",
    "plt.show()"
   ]
  },
  {
   "cell_type": "markdown",
   "id": "87a1f834",
   "metadata": {},
   "source": [
    "## Credit Card Fraud System with 28 PCA Columns"
   ]
  },
  {
   "cell_type": "code",
   "execution_count": null,
   "id": "fa39eff6",
   "metadata": {},
   "outputs": [],
   "source": [
    "from sklearn.metrics import classification_report,accuracy_score"
   ]
  },
  {
   "cell_type": "markdown",
   "id": "c959bf36",
   "metadata": {},
   "source": [
    "### Isolation Forest"
   ]
  },
  {
   "cell_type": "code",
   "execution_count": null,
   "id": "cbc06dbb",
   "metadata": {},
   "outputs": [],
   "source": [
    "clf=IsolationForest(n_estimators=100, max_samples='auto', contamination=0.1, \\\n",
    "                        max_features=28, bootstrap=False, n_jobs=-1, random_state=42, verbose=0)"
   ]
  },
  {
   "cell_type": "code",
   "execution_count": null,
   "id": "1e0542b6",
   "metadata": {},
   "outputs": [],
   "source": [
    "clf.fit(X_train)\n",
    "clf_pred = clf.predict(X_test)"
   ]
  },
  {
   "cell_type": "code",
   "execution_count": null,
   "id": "c0c1fb22",
   "metadata": {},
   "outputs": [],
   "source": [
    "df = pd.DataFrame()\n",
    "df['scores'] = clf.decision_function(X_test)\n",
    "df['anomaly_label'] = clf_pred"
   ]
  },
  {
   "cell_type": "code",
   "execution_count": null,
   "id": "759a2334",
   "metadata": {},
   "outputs": [],
   "source": [
    "import matplotlib.pyplot as plt\n",
    "import plotly.express as px\n",
    "df['anomaly']=df['anomaly_label'].apply(lambda x: 'outlier' if x==-1  else 'inlier')\n",
    "fig=px.histogram(df,x='scores',color='anomaly')\n",
    "fig.show()"
   ]
  },
  {
   "cell_type": "code",
   "execution_count": null,
   "id": "52a61706",
   "metadata": {},
   "outputs": [],
   "source": [
    "res = np.where(clf_pred ==1,  0,clf_pred)\n",
    "res = np.where(clf_pred ==-1,  1,res)\n",
    "clf_pred = res"
   ]
  },
  {
   "cell_type": "code",
   "execution_count": null,
   "id": "b62d1749",
   "metadata": {},
   "outputs": [],
   "source": [
    "from sklearn.metrics import confusion_matrix\n",
    "import seaborn as sn\n",
    "import matplotlib.pyplot as plt # graph visualisation\n",
    "cm = confusion_matrix(Y_test,clf_pred)\n",
    "\n",
    "plt.figure(figsize=(10,7))\n",
    "sn.heatmap(cm, annot=True)\n",
    "plt.xlabel('Predicted')\n",
    "plt.ylabel('Truth')"
   ]
  },
  {
   "cell_type": "markdown",
   "id": "56f1034f",
   "metadata": {},
   "source": [
    "### KMeans"
   ]
  },
  {
   "cell_type": "code",
   "execution_count": null,
   "id": "09b23eb6",
   "metadata": {},
   "outputs": [],
   "source": [
    "clustering = KMeans(n_clusters=2, random_state=42)\n",
    "clustering.fit(X_train)\n",
    "km_pred = clustering.predict(X_test)"
   ]
  },
  {
   "cell_type": "code",
   "execution_count": null,
   "id": "8c1ad0aa",
   "metadata": {},
   "outputs": [],
   "source": [
    "n_errors = (km_pred != Y_test).sum()\n",
    "# Run Classification Metrics\n",
    "print(\"{}: {}\".format('isolation forrest',n_errors))\n",
    "print(\"Accuracy Score :\")\n",
    "print(accuracy_score(Y_test,km_pred))\n",
    "print(\"Classification Report :\")\n",
    "print(classification_report(Y_test,km_pred))"
   ]
  },
  {
   "cell_type": "code",
   "execution_count": null,
   "id": "9bbdb37c",
   "metadata": {},
   "outputs": [],
   "source": [
    "from sklearn.metrics import confusion_matrix\n",
    "import seaborn as sn\n",
    "import matplotlib.pyplot as plt # graph visualisation\n",
    "cm = confusion_matrix(Y_test,km_pred)\n",
    "\n",
    "plt.figure(figsize=(10,7))\n",
    "sn.heatmap(cm, annot=True)\n",
    "plt.xlabel('Predicted')\n",
    "plt.ylabel('Truth')"
   ]
  },
  {
   "cell_type": "markdown",
   "id": "7c7d54c5",
   "metadata": {},
   "source": [
    "###  ROC Curve & AUROC Score"
   ]
  },
  {
   "cell_type": "code",
   "execution_count": null,
   "id": "d350d994",
   "metadata": {},
   "outputs": [],
   "source": [
    "from sklearn.metrics import roc_curve, roc_auc_score"
   ]
  },
  {
   "cell_type": "code",
   "execution_count": null,
   "id": "6a5f2b67",
   "metadata": {},
   "outputs": [],
   "source": [
    "clf_auc = roc_auc_score(Y_test, clf_pred)\n",
    "km_auc = roc_auc_score(Y_test, km_pred)"
   ]
  },
  {
   "cell_type": "code",
   "execution_count": null,
   "id": "8f2d729b",
   "metadata": {},
   "outputs": [],
   "source": [
    "print('Isolation Forrest: AUROC = %.3f' % (clf_auc))\n",
    "print('K-Means: AUROC = %.3f' % (km_auc))"
   ]
  },
  {
   "cell_type": "code",
   "execution_count": null,
   "id": "47269a6e",
   "metadata": {},
   "outputs": [],
   "source": [
    "clf_fpr, clf_tpr, _ = roc_curve(Y_test, clf_pred)\n",
    "km_fpr, km_tpr, _ = roc_curve(Y_test, km_pred)"
   ]
  },
  {
   "cell_type": "code",
   "execution_count": null,
   "id": "5e9f97f9",
   "metadata": {},
   "outputs": [],
   "source": [
    "import matplotlib.pyplot as plt"
   ]
  },
  {
   "cell_type": "code",
   "execution_count": null,
   "id": "d279ba4c",
   "metadata": {},
   "outputs": [],
   "source": [
    "plt.plot(clf_fpr, clf_tpr, linestyle='--', label='Isolation Forest (AUROC = %0.3f)' % clf_auc)\n",
    "plt.plot(km_fpr, km_tpr, marker='.', label='K-Means (AUROC = %0.3f)' % km_auc)\n",
    "\n",
    "# Title\n",
    "plt.title('ROC Plot')\n",
    "# Axis labels\n",
    "plt.xlabel('False Positive Rate')\n",
    "plt.ylabel('True Positive Rate')\n",
    "# Show legend\n",
    "plt.legend() # \n",
    "# Show plot\n",
    "plt.show()"
   ]
  },
  {
   "cell_type": "code",
   "execution_count": null,
   "id": "b41df93b",
   "metadata": {},
   "outputs": [],
   "source": []
  }
 ],
 "metadata": {
  "kernelspec": {
   "display_name": "Python 3 (ipykernel)",
   "language": "python",
   "name": "python3"
  },
  "language_info": {
   "codemirror_mode": {
    "name": "ipython",
    "version": 3
   },
   "file_extension": ".py",
   "mimetype": "text/x-python",
   "name": "python",
   "nbconvert_exporter": "python",
   "pygments_lexer": "ipython3",
   "version": "3.9.7"
  }
 },
 "nbformat": 4,
 "nbformat_minor": 5
}
